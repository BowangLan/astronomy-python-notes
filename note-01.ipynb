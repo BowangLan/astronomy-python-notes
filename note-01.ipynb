{
 "cells": [
  {
   "cell_type": "code",
   "execution_count": 1,
   "metadata": {},
   "outputs": [],
   "source": [
    "import spiceypy"
   ]
  },
  {
   "cell_type": "code",
   "execution_count": 2,
   "metadata": {},
   "outputs": [],
   "source": [
    "spiceypy.furnsh('naif0012.tls')"
   ]
  },
  {
   "cell_type": "code",
   "execution_count": 7,
   "metadata": {},
   "outputs": [],
   "source": [
    "spiceypy.furnsh('de432s.bsp')"
   ]
  },
  {
   "cell_type": "code",
   "execution_count": 11,
   "metadata": {},
   "outputs": [
    {
     "name": "stdout",
     "output_type": "stream",
     "text": [
      "ET for 2022-12-28T10:52:44 is 725496833.1838112\n"
     ]
    }
   ],
   "source": [
    "import datetime\n",
    "today = datetime.datetime.now().strftime('%Y-%m-%dT%H:%M:%S')\n",
    "today_et = spiceypy.utc2et(today)\n",
    "print(\"ET for {} is {}\".format(today, today_et))"
   ]
  },
  {
   "cell_type": "code",
   "execution_count": 20,
   "metadata": {},
   "outputs": [
    {
     "name": "stdout",
     "output_type": "stream",
     "text": [
      "The distance between the Sun and the Earth right now is 147121764.1564846 km or 0.9834482506532571 AU\n",
      "The velocity of the Earth relative to the Sun is 30.287135782689397 km/s\n"
     ]
    }
   ],
   "source": [
    "import numpy as np\n",
    "\n",
    "state, lt = spiceypy.spkgeo(\n",
    "    399, today_et, 'ECLIPJ2000', 10\n",
    ")\n",
    "\n",
    "distance = np.sqrt(np.sum(state[:3]**2))\n",
    "dist_au = spiceypy.convrt(distance, 'km', 'AU')\n",
    "print(\"The distance between the Sun and the Earth right now is {} km or {} AU\".format(distance, dist_au))\n",
    "\n",
    "velocity = np.sqrt(np.sum(state[3:]**2))\n",
    "print(\"The velocity of the Earth relative to the Sun is {} km/s\".format(velocity))"
   ]
  },
  {
   "cell_type": "code",
   "execution_count": 18,
   "metadata": {},
   "outputs": [
    {
     "name": "stdout",
     "output_type": "stream",
     "text": [
      "\n"
     ]
    }
   ],
   "source": []
  },
  {
   "cell_type": "code",
   "execution_count": null,
   "metadata": {},
   "outputs": [],
   "source": []
  }
 ],
 "metadata": {
  "kernelspec": {
   "display_name": "Python 3",
   "language": "python",
   "name": "python3"
  },
  "language_info": {
   "codemirror_mode": {
    "name": "ipython",
    "version": 3
   },
   "file_extension": ".py",
   "mimetype": "text/x-python",
   "name": "python",
   "nbconvert_exporter": "python",
   "pygments_lexer": "ipython3",
   "version": "3.11.0"
  },
  "orig_nbformat": 4,
  "vscode": {
   "interpreter": {
    "hash": "2621c2409843c1d7a25cf86330995ca04ae08b8d38294209b9a34a08a537d383"
   }
  }
 },
 "nbformat": 4,
 "nbformat_minor": 2
}
